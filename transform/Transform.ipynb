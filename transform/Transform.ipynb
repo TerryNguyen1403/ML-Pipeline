{
 "cells": [
  {
   "cell_type": "code",
   "execution_count": 10,
   "id": "292fc53a",
   "metadata": {},
   "outputs": [],
   "source": [
    "import pandas as pd"
   ]
  },
  {
   "cell_type": "markdown",
   "id": "9dbc516a",
   "metadata": {},
   "source": [
    "Loading dataframe"
   ]
  },
  {
   "cell_type": "code",
   "execution_count": 11,
   "id": "b4493cbb",
   "metadata": {},
   "outputs": [],
   "source": [
    "df = pd.read_csv('../data/raw_weather_data.csv')"
   ]
  },
  {
   "cell_type": "markdown",
   "id": "09eaba12",
   "metadata": {},
   "source": [
    "Transform `weather_code` into `weather_status` as a readable label based on WMO Weather interpretation codes (WW)."
   ]
  },
  {
   "cell_type": "code",
   "execution_count": 12,
   "id": "a04e8b0f",
   "metadata": {},
   "outputs": [],
   "source": [
    "def classify_weather(code):\n",
    "    \"\"\"Classify weather based on WMO codes\"\"\"\n",
    "    if 0 <= code <= 3:\n",
    "        return \"Clear sky\"\n",
    "    elif 4 <= code <= 48:\n",
    "        return \"Fog\"\n",
    "    elif 49 <= code <= 55:\n",
    "        return \"Drizzle\"\n",
    "    elif 56 <= code <= 57:\n",
    "        return \"Freezing Drizzle\"\n",
    "    elif 58 <= code <= 65:\n",
    "        return \"Rain\"\n",
    "    elif 66 <= code <= 67:\n",
    "        return \"Freezing Rain\"\n",
    "    elif 68 <= code <= 75:\n",
    "        return \"Snow fall\"\n",
    "    elif 76 <= code <= 77:\n",
    "        return \"Snow grains\"\n",
    "    elif 78 <= code <= 82:\n",
    "        return \"Rain showers\"\n",
    "    elif 83 <= code <= 86:\n",
    "        return \"Snow showers\"\n",
    "    else:\n",
    "        return \"Thunderstorm\""
   ]
  },
  {
   "cell_type": "code",
   "execution_count": 13,
   "id": "ed8d2568",
   "metadata": {},
   "outputs": [],
   "source": [
    "df[\"status\"] = df[\"weather_code\"].apply(classify_weather)"
   ]
  },
  {
   "cell_type": "code",
   "execution_count": 14,
   "id": "77c8bd49",
   "metadata": {},
   "outputs": [],
   "source": [
    "df = df.drop(columns=['date', 'weather_code'], axis=1)"
   ]
  },
  {
   "cell_type": "code",
   "execution_count": 15,
   "id": "03b36886",
   "metadata": {},
   "outputs": [
    {
     "name": "stdout",
     "output_type": "stream",
     "text": [
      "Creating a transformed_data.csv\n",
      "Created successfully!!!\n"
     ]
    }
   ],
   "source": [
    "import os\n",
    "transformed_file_name = '../data/transformed_data.csv'\n",
    "try:\n",
    "    if os.path.exists(transformed_file_name):\n",
    "        print(f\"{transformed_file_name} is already existed..! Appendind new transformed observations into a csv file\")\n",
    "        df.to_csv(transformed_file_name, mode='a', index=False,header=False,encoding='utf-8')\n",
    "        print(\"Appended successfully!!!\")\n",
    "    else:\n",
    "        print(f\"Creating a transformed_data.csv\")\n",
    "        df.to_csv(transformed_file_name, index=False,encoding='utf-8')\n",
    "        print(\"Created successfully!!!\")\n",
    "except Exception as e:\n",
    "    print(f\"Error: {e}\")\n",
    "    print(\"Failed to save transformed data\")"
   ]
  }
 ],
 "metadata": {
  "kernelspec": {
   "display_name": "env",
   "language": "python",
   "name": "python3"
  },
  "language_info": {
   "codemirror_mode": {
    "name": "ipython",
    "version": 3
   },
   "file_extension": ".py",
   "mimetype": "text/x-python",
   "name": "python",
   "nbconvert_exporter": "python",
   "pygments_lexer": "ipython3",
   "version": "3.12.6"
  }
 },
 "nbformat": 4,
 "nbformat_minor": 5
}
