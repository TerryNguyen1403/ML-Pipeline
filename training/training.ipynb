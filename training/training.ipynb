{
 "cells": [
  {
   "cell_type": "code",
   "execution_count": 4,
   "id": "f1407656",
   "metadata": {},
   "outputs": [],
   "source": [
    "import pandas as pd"
   ]
  },
  {
   "cell_type": "code",
   "execution_count": null,
   "id": "d9848e04",
   "metadata": {},
   "outputs": [],
   "source": [
    "df = pd.read_csv('../transform/transformed_data.csv')"
   ]
  },
  {
   "cell_type": "code",
   "execution_count": null,
   "id": "84c59b49",
   "metadata": {},
   "outputs": [],
   "source": [
    "from sklearn.model_selection import train_test_split\n",
    "X = df.iloc[:, :-1].values\n",
    "y = df.iloc[:, -1].values"
   ]
  },
  {
   "cell_type": "code",
   "execution_count": 9,
   "id": "e336d15f",
   "metadata": {},
   "outputs": [
    {
     "data": {
      "text/plain": [
       "array([np.float64(32.276), np.float64(25.476), np.float64(38.53462),\n",
       "       np.float64(31.318188), np.float64(45938.242), np.float64(32920.76),\n",
       "       np.float64(0.0), np.float64(14.499999), np.float64(14.499999),\n",
       "       np.float64(20.0), np.float64(7.628263), np.float64(19.44),\n",
       "       np.float64(257.4712), 'Thunderstorm'], dtype=object)"
      ]
     },
     "execution_count": 9,
     "metadata": {},
     "output_type": "execute_result"
    }
   ],
   "source": [
    "y"
   ]
  }
 ],
 "metadata": {
  "kernelspec": {
   "display_name": "env",
   "language": "python",
   "name": "python3"
  },
  "language_info": {
   "codemirror_mode": {
    "name": "ipython",
    "version": 3
   },
   "file_extension": ".py",
   "mimetype": "text/x-python",
   "name": "python",
   "nbconvert_exporter": "python",
   "pygments_lexer": "ipython3",
   "version": "3.12.6"
  }
 },
 "nbformat": 4,
 "nbformat_minor": 5
}
